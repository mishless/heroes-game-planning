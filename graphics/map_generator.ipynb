{
 "cells": [
  {
   "cell_type": "code",
   "execution_count": 8,
   "metadata": {},
   "outputs": [],
   "source": [
    "import matplotlib.pyplot as plt\n",
    "import matplotlib.image as pltimg\n",
    "import numpy as np\n",
    "import time"
   ]
  },
  {
   "cell_type": "code",
   "execution_count": 9,
   "metadata": {},
   "outputs": [],
   "source": [
    "hero = pltimg.imread(\"sprites/hero.jpg\")\n",
    "monsters = [pltimg.imread(\"sprites/M{0}.jpg\".format(i)) for i in range(9)]\n",
    "swords = [pltimg.imread(\"sprites/S{0}.jpg\".format(i)) for i in range(9)]\n",
    "empty = pltimg.imread(\"sprites/empty.jpg\")\n",
    "castle = pltimg.imread(\"sprites/castle.jpg\")\n",
    "block = pltimg.imread(\"sprites/block.jpg\")"
   ]
  },
  {
   "cell_type": "code",
   "execution_count": 24,
   "metadata": {},
   "outputs": [],
   "source": [
    "def plotgrid(axes, grid, rows, cols):\n",
    "    for i in range(rows):\n",
    "        for j in range(cols):\n",
    "            ax = axes[rows*i+j]\n",
    "            \n",
    "            if grid[i][j] == \"H\":\n",
    "                image = hero\n",
    "            elif grid[i][j][0] == \"S\":\n",
    "                image = swords[int(grid[i][j][1])]\n",
    "            elif grid[i][j][0] == \"M\":\n",
    "                image = monsters[int(grid[i][j][1])]\n",
    "            elif grid[i][j] == \"B\":\n",
    "                image = block\n",
    "            elif grid[i][j] == \"C\":\n",
    "                image = castle\n",
    "            else:\n",
    "                image = empty\n",
    "            \n",
    "            ax.set_xticks([])\n",
    "            ax.set_yticks([])\n",
    "            ax.set_aspect('equal')\n",
    "            ax.imshow(image)\n",
    "    \n",
    "    return fig\n",
    "\n",
    "def getgrids(filename):\n",
    "    file = open(filename, \"r\")\n",
    "    grids = []\n",
    "\n",
    "    reading = 0\n",
    "\n",
    "    for line in file:\n",
    "        if line[0] == \"-\":\n",
    "            reading = 1\n",
    "        elif reading == 1:\n",
    "            if line[0:3] == \"Map\":\n",
    "                reading = 0\n",
    "                grids.append([])\n",
    "            else:\n",
    "                grids[-1].append(line.split())\n",
    "    return grids\n",
    "\n",
    "def plotgrids(grids, rows, cols, save=False, foldername=\"maps/\", show=True):\n",
    "    for i, grid in enumerate(grids):\n",
    "        if show:\n",
    "            fig = plt.figure(figsize=(2*rows,2*cols))\n",
    "        else:\n",
    "            fig = plt.figure(figsize=(5*rows,5*cols))\n",
    "        plt.subplots_adjust(wspace=0, hspace=0)\n",
    "        axes = [fig.add_subplot(rows, cols, rows*i+j+1) for i in range(rows) for j in range(cols)]\n",
    "        fig = plotgrid(axes, grid, rows, cols)\n",
    "        if save:\n",
    "            plt.savefig(foldername + \"/{0}_by_{1}_{2}.png\".format(rows,cols,i), bbox_inches=\"tight\")\n",
    "        if show:\n",
    "            plt.show()\n",
    "        else:\n",
    "            plt.clf()"
   ]
  },
  {
   "cell_type": "code",
   "execution_count": 22,
   "metadata": {},
   "outputs": [],
   "source": [
    "# PDDL BFS\n",
    "\n",
    "grid1 = [[  \"B\",   \"H\",  \"p2\",  \"p3\",  \"M2\"],\n",
    "         [ \"p5\",  \"S0\",  \"p7\",  \"S2\",  \"S1\"],\n",
    "         [\"p10\", \"p11\", \"p12\",   \"B\", \"p14\"],\n",
    "         [\"p15\",  \"M0\", \"p17\",   \"B\",  \"M1\"],\n",
    "         [\"p20\", \"p21\", \"p22\", \"p23\",  \"p24\"]]\n",
    "grid2 = [[  \"B\",  \"p1\",  \"p2\",  \"p3\",  \"M2\"],\n",
    "         [ \"p5\",   \"H\",  \"p7\",  \"S2\",  \"S1\"],\n",
    "         [\"p10\", \"p11\", \"p12\",   \"B\", \"p14\"],\n",
    "         [\"p15\",  \"M0\", \"p17\",   \"B\",  \"M1\"],\n",
    "         [\"p20\", \"p21\", \"p22\", \"p23\",  \"p24\"]]\n",
    "grid3 = [[  \"B\",  \"p1\",  \"p2\",  \"p3\",  \"M2\"],\n",
    "         [ \"p5\",  \"p6\",  \"p7\",  \"S2\",  \"S1\"],\n",
    "         [\"p10\",   \"H\", \"p12\",   \"B\", \"p14\"],\n",
    "         [\"p15\",  \"M0\", \"p17\",   \"B\",  \"M1\"],\n",
    "         [\"p20\", \"p21\", \"p22\", \"p23\",  \"p24\"]]\n",
    "grid4 = [[  \"B\",  \"p1\",  \"p2\",  \"p3\",  \"M2\"],\n",
    "         [ \"p5\",  \"p6\",  \"p7\",  \"S2\",  \"S1\"],\n",
    "         [\"p10\",  \"p11\", \"p12\",   \"B\", \"p14\"],\n",
    "         [\"p15\",   \"H\", \"p17\",   \"B\",  \"M1\"],\n",
    "         [\"p20\", \"p21\", \"p22\", \"p23\",  \"p24\"]]\n",
    "grid5 = [[  \"B\",  \"p1\",  \"p2\",  \"p3\",  \"M2\"],\n",
    "         [ \"p5\",  \"p6\",  \"p7\",  \"S2\",  \"S1\"],\n",
    "         [\"p10\",   \"H\", \"p12\",   \"B\", \"p14\"],\n",
    "         [\"p15\",   \"C\", \"p17\",   \"B\",  \"M1\"],\n",
    "         [\"p20\", \"p21\", \"p22\", \"p23\",  \"p24\"]]\n",
    "grid6 = [[  \"B\",  \"p1\",  \"p2\",  \"p3\",  \"M2\"],\n",
    "         [ \"p5\",   \"H\",  \"p7\",  \"S2\",  \"S1\"],\n",
    "         [\"p10\",  \"p11\", \"p12\",   \"B\", \"p14\"],\n",
    "         [\"p15\",   \"C\", \"p17\",   \"B\",  \"M1\"],\n",
    "         [\"p20\", \"p21\", \"p22\", \"p23\",  \"p24\"]]\n",
    "grid7 = [[  \"B\",  \"p1\",  \"p2\",  \"p3\",  \"M2\"],\n",
    "         [ \"p5\",  \"p6\",   \"H\",  \"S2\",  \"S1\"],\n",
    "         [\"p10\",  \"p11\", \"p12\",   \"B\", \"p14\"],\n",
    "         [\"p15\",   \"C\", \"p17\",   \"B\",  \"M1\"],\n",
    "         [\"p20\", \"p21\", \"p22\", \"p23\",  \"p24\"]]\n",
    "grid8 = [[  \"B\",  \"p1\",  \"p2\",  \"p3\",  \"M2\"],\n",
    "         [ \"p5\",  \"p6\",  \"p7\",   \"H\",  \"S1\"],\n",
    "         [\"p10\",  \"p11\", \"p12\",  \"B\", \"p14\"],\n",
    "         [\"p15\",   \"C\", \"p17\",   \"B\",  \"M1\"],\n",
    "         [\"p20\", \"p21\", \"p22\", \"p23\",  \"p24\"]]\n",
    "grid9 = [[  \"B\",  \"p1\",  \"p2\",  \"p3\",  \"M2\"],\n",
    "         [ \"p5\",  \"p6\",  \"p7\",  \"p8\",   \"H\"],\n",
    "         [\"p10\",  \"p11\", \"p12\",  \"B\", \"p14\"],\n",
    "         [\"p15\",   \"C\", \"p17\",   \"B\",  \"M1\"],\n",
    "         [\"p20\", \"p21\", \"p22\", \"p23\",  \"p24\"]]\n",
    "grid10 = [[  \"B\",  \"p1\",  \"p2\",  \"p3\",   \"H\"],\n",
    "         [ \"p5\",  \"p6\",  \"p7\",  \"p8\",  \"S1\"],\n",
    "         [\"p10\",  \"p11\", \"p12\",  \"B\", \"p14\"],\n",
    "         [\"p15\",   \"C\", \"p17\",   \"B\",  \"M1\"],\n",
    "         [\"p20\", \"p21\", \"p22\", \"p23\",  \"p24\"]]\n",
    "grid11 = [[  \"B\",  \"p1\",  \"p2\",  \"p3\",  \"C\"],\n",
    "         [ \"p5\",  \"p6\",  \"p7\",  \"p8\",   \"H\"],\n",
    "         [\"p10\",  \"p11\", \"p12\",  \"B\", \"p14\"],\n",
    "         [\"p15\",   \"C\", \"p17\",   \"B\",  \"M1\"],\n",
    "         [\"p20\", \"p21\", \"p22\", \"p23\",  \"p24\"]]\n",
    "grid12 = [[  \"B\",  \"p1\",  \"p2\",  \"p3\",  \"C\"],\n",
    "         [ \"p5\",  \"p6\",  \"p7\",  \"p8\",  \"p9\"],\n",
    "         [\"p10\",  \"p11\", \"p12\",  \"B\",   \"H\"],\n",
    "         [\"p15\",   \"C\", \"p17\",   \"B\",  \"M1\"],\n",
    "         [\"p20\", \"p21\", \"p22\", \"p23\",  \"p24\"]]\n",
    "grid13 = [[  \"B\",  \"p1\",  \"p2\",  \"p3\",  \"C\"],\n",
    "         [ \"p5\",  \"p6\",  \"p7\",  \"p8\",  \"p9\"],\n",
    "         [\"p10\",  \"p11\", \"p12\",  \"B\",  \"p13\"],\n",
    "         [\"p15\",   \"C\", \"p17\",   \"B\",  \"H\"],\n",
    "         [\"p20\", \"p21\", \"p22\", \"p23\",  \"p24\"]]\n",
    "grid14 = [[  \"B\",  \"p1\",  \"p2\",  \"p3\",  \"C\"],\n",
    "         [ \"p5\",  \"p6\",  \"p7\",  \"p8\",  \"p9\"],\n",
    "         [\"p10\",  \"p11\", \"p12\",  \"B\",  \"p13\"],\n",
    "         [\"p15\",   \"C\", \"p17\",   \"B\",  \"C\"],\n",
    "         [\"p20\", \"p21\", \"p22\", \"p23\",  \"p24\"]]\n",
    "\n",
    "grids = [grid1, grid2, grid3, grid4, grid5, grid6, grid7, grid8, grid9, grid10, grid11, grid12, grid13, grid14]"
   ]
  },
  {
   "cell_type": "code",
   "execution_count": 26,
   "metadata": {},
   "outputs": [
    {
     "data": {
      "text/plain": [
       "<Figure size 1800x1800 with 0 Axes>"
      ]
     },
     "metadata": {},
     "output_type": "display_data"
    },
    {
     "data": {
      "text/plain": [
       "<Figure size 1800x1800 with 0 Axes>"
      ]
     },
     "metadata": {},
     "output_type": "display_data"
    },
    {
     "data": {
      "text/plain": [
       "<Figure size 1800x1800 with 0 Axes>"
      ]
     },
     "metadata": {},
     "output_type": "display_data"
    },
    {
     "data": {
      "text/plain": [
       "<Figure size 1800x1800 with 0 Axes>"
      ]
     },
     "metadata": {},
     "output_type": "display_data"
    },
    {
     "data": {
      "text/plain": [
       "<Figure size 1800x1800 with 0 Axes>"
      ]
     },
     "metadata": {},
     "output_type": "display_data"
    },
    {
     "data": {
      "text/plain": [
       "<Figure size 1800x1800 with 0 Axes>"
      ]
     },
     "metadata": {},
     "output_type": "display_data"
    },
    {
     "data": {
      "text/plain": [
       "<Figure size 1800x1800 with 0 Axes>"
      ]
     },
     "metadata": {},
     "output_type": "display_data"
    },
    {
     "data": {
      "text/plain": [
       "<Figure size 1800x1800 with 0 Axes>"
      ]
     },
     "metadata": {},
     "output_type": "display_data"
    },
    {
     "data": {
      "text/plain": [
       "<Figure size 1800x1800 with 0 Axes>"
      ]
     },
     "metadata": {},
     "output_type": "display_data"
    },
    {
     "data": {
      "text/plain": [
       "<Figure size 1800x1800 with 0 Axes>"
      ]
     },
     "metadata": {},
     "output_type": "display_data"
    },
    {
     "data": {
      "text/plain": [
       "<Figure size 1800x1800 with 0 Axes>"
      ]
     },
     "metadata": {},
     "output_type": "display_data"
    },
    {
     "data": {
      "text/plain": [
       "<Figure size 1800x1800 with 0 Axes>"
      ]
     },
     "metadata": {},
     "output_type": "display_data"
    },
    {
     "data": {
      "text/plain": [
       "<Figure size 1800x1800 with 0 Axes>"
      ]
     },
     "metadata": {},
     "output_type": "display_data"
    },
    {
     "data": {
      "text/plain": [
       "<Figure size 1800x1800 with 0 Axes>"
      ]
     },
     "metadata": {},
     "output_type": "display_data"
    }
   ],
   "source": [
    "# %matplotlib notebook\n",
    "\n",
    "# plt.ion()\n",
    "\n",
    "rows = 5\n",
    "cols = 5\n",
    "\n",
    "save = True\n",
    "\n",
    "fig = plt.figure(figsize=(5,5))\n",
    "plt.subplots_adjust(wspace=0, hspace=0)\n",
    "axes = [fig.add_subplot(rows, cols, rows*i+j+1) for i in range(rows) for j in range(rows)]\n",
    "\n",
    "if save:\n",
    "    %matplotlib inline\n",
    "    plotgrids(grids, 5, 5, save=True, foldername=\"pddlplans\", show=False)\n",
    "\n",
    "else:\n",
    "    for i, grid in enumerate(grids):\n",
    "        fig = plotgrid(axes, grid, rows, cols)\n",
    "        fig.canvas.draw()\n",
    "        time.sleep(1)"
   ]
  },
  {
   "cell_type": "code",
   "execution_count": 1,
   "metadata": {
    "scrolled": false
   },
   "outputs": [],
   "source": [
    "# %matplotlib inline\n",
    "\n",
    "# grids = getgrids(\"hero_problems_3_by_3.txt\")\n",
    "# plotgrids(grids, 3, 3, save=True, show=False)"
   ]
  },
  {
   "cell_type": "code",
   "execution_count": 2,
   "metadata": {
    "scrolled": false
   },
   "outputs": [],
   "source": [
    "# %matplotlib inline\n",
    "\n",
    "# grids = getgrids(\"hero_problems_5_by_5.txt\")\n",
    "# plotgrids(grids, 5, 5, save=True, show=False)"
   ]
  },
  {
   "cell_type": "code",
   "execution_count": 3,
   "metadata": {
    "scrolled": false
   },
   "outputs": [],
   "source": [
    "# %matplotlib inline\n",
    "\n",
    "# grids = getgrids(\"hero_problems_7_by_7.txt\")\n",
    "# plotgrids(grids, 7, 7, save=True, show=False)"
   ]
  },
  {
   "cell_type": "code",
   "execution_count": 4,
   "metadata": {
    "scrolled": false
   },
   "outputs": [],
   "source": [
    "# %matplotlib inline\n",
    "\n",
    "# grids = getgrids(\"hero_problems_9_by_9.txt\")\n",
    "# plotgrids(grids, 9, 9, save=True, show=False)"
   ]
  },
  {
   "cell_type": "code",
   "execution_count": null,
   "metadata": {},
   "outputs": [],
   "source": []
  }
 ],
 "metadata": {
  "kernelspec": {
   "display_name": "Python 3",
   "language": "python",
   "name": "python3"
  },
  "language_info": {
   "codemirror_mode": {
    "name": "ipython",
    "version": 3
   },
   "file_extension": ".py",
   "mimetype": "text/x-python",
   "name": "python",
   "nbconvert_exporter": "python",
   "pygments_lexer": "ipython3",
   "version": "3.6.4"
  }
 },
 "nbformat": 4,
 "nbformat_minor": 2
}
