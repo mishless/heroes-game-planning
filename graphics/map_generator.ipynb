{
 "cells": [
  {
   "cell_type": "code",
   "execution_count": 26,
   "metadata": {},
   "outputs": [],
   "source": [
    "import matplotlib.pyplot as plt\n",
    "import matplotlib.image as pltimg\n",
    "import numpy as np\n",
    "import time\n",
    "\n",
    "grid1 = [[\"W0\", \"H\", \"p2\"],\n",
    "         [\"M0\", \"B\", \"M1\"],\n",
    "         [\"p6\", \"p7\", \"W1\"]]\n",
    "grid2 = [[\"H\", \"p1\", \"p2\"],\n",
    "         [\"M0\", \"B\", \"M1\"],\n",
    "         [\"p6\", \"p7\", \"W1\"]]\n",
    "grid3 = [[\"p0\", \"p1\", \"p2\"],\n",
    "         [\"H\", \"B\", \"M1\"],\n",
    "         [\"p6\", \"p7\", \"W1\"]]\n",
    "grid4 = [[\"p0\", \"p1\", \"p2\"],\n",
    "         [\"C\", \"B\", \"M1\"],\n",
    "         [\"H\", \"p7\", \"W1\"]]\n",
    "grid5 = [[\"p0\", \"p1\", \"p2\"],\n",
    "         [\"C\", \"B\", \"M1\"],\n",
    "         [\"p6\", \"H\", \"W1\"]]\n",
    "grid6 = [[\"p0\", \"p1\", \"p2\"],\n",
    "         [\"C\", \"B\", \"M1\"],\n",
    "         [\"p6\", \"p7\", \"H\"]]\n",
    "grid7 = [[\"p0\", \"p1\", \"p2\"],\n",
    "         [\"C\", \"B\", \"H\"],\n",
    "         [\"p6\", \"p7\", \"p8\"]]\n",
    "grid8 = [[\"p0\", \"p1\", \"H\"],\n",
    "         [\"C\", \"B\", \"C\"],\n",
    "         [\"p6\", \"p7\", \"p8\"]]\n",
    "\n",
    "grids = [grid1, grid2, grid3, grid4, grid5, grid6, grid7, grid8]"
   ]
  },
  {
   "cell_type": "code",
   "execution_count": 27,
   "metadata": {},
   "outputs": [],
   "source": [
    "hero = pltimg.imread(\"sprites/hero.jpg\")\n",
    "monsters = [pltimg.imread(\"sprites/M{0}.jpg\".format(i)) for i in range(9)]\n",
    "swords = [pltimg.imread(\"sprites/S{0}.jpg\".format(i)) for i in range(9)]\n",
    "empty = pltimg.imread(\"sprites/empty.jpg\")\n",
    "castle = pltimg.imread(\"sprites/castle.jpg\")\n",
    "block = pltimg.imread(\"sprites/block.jpg\")"
   ]
  },
  {
   "cell_type": "code",
   "execution_count": 28,
   "metadata": {},
   "outputs": [],
   "source": [
    "# %matplotlib notebook\n",
    "\n",
    "# plt.ion()\n",
    "\n",
    "# rows = 3\n",
    "# cols = 3\n",
    "\n",
    "# fig = plt.figure(figsize=(3.5,3.5))\n",
    "# plt.subplots_adjust(wspace=0, hspace=0)\n",
    "# axes = [fig.add_subplot(rows, cols, rows*i+j+1) for i in range(3) for j in range(3)]\n",
    "\n",
    "# for grid in grids:\n",
    "#     fig = plotgrid(axes, grid)\n",
    "#     fig.canvas.draw()\n",
    "#     time.sleep(1)\n",
    "#     fig = plotgrid(axes, grid)\n",
    "#     fig.canvas.draw()\n",
    "\n",
    "#     time.sleep(1)"
   ]
  },
  {
   "cell_type": "code",
   "execution_count": 35,
   "metadata": {},
   "outputs": [],
   "source": [
    "def plotgrid(axes, grid, rows, cols):\n",
    "    for i in range(rows):\n",
    "        for j in range(cols):\n",
    "            ax = axes[rows*i+j]\n",
    "            \n",
    "            if grid[i][j] == \"H\":\n",
    "                image = hero\n",
    "            elif grid[i][j][0] == \"W\":\n",
    "                image = swords[int(grid[i][j][1])]\n",
    "            elif grid[i][j][0] == \"M\":\n",
    "                image = monsters[int(grid[i][j][1])]\n",
    "            elif grid[i][j] == \"B\":\n",
    "                image = block\n",
    "            elif grid[i][j] == \"C\":\n",
    "                image = castle\n",
    "            else:\n",
    "                image = empty\n",
    "            \n",
    "            ax.set_xticks([])\n",
    "            ax.set_yticks([])\n",
    "            ax.set_aspect('equal')\n",
    "            ax.imshow(image)\n",
    "    \n",
    "    return fig\n",
    "\n",
    "def getgrids(filename):\n",
    "    file = open(filename, \"r\")\n",
    "    grids = []\n",
    "\n",
    "    reading = 0\n",
    "\n",
    "    for line in file:\n",
    "        if line[0] == \"-\":\n",
    "            reading = 1\n",
    "        elif reading == 1:\n",
    "            if line[0:3] == \"Map\":\n",
    "                reading = 0\n",
    "                grids.append([])\n",
    "            else:\n",
    "                grids[-1].append(line.split())\n",
    "    return grids\n",
    "\n",
    "def plotgrids(grids, rows, cols, save=False, show=True):\n",
    "    for i, grid in enumerate(grids):\n",
    "        if show:\n",
    "            fig = plt.figure(figsize=(2*rows,2*cols))\n",
    "        else:\n",
    "            fig = plt.figure(figsize=(5*rows,5*cols))\n",
    "        plt.subplots_adjust(wspace=0, hspace=0)\n",
    "        axes = [fig.add_subplot(rows, cols, rows*i+j+1) for i in range(rows) for j in range(cols)]\n",
    "        fig = plotgrid(axes, grid, rows, cols)\n",
    "        if save:\n",
    "            plt.savefig(\"maps/{0}_by_{1}_{2}.png\".format(rows,cols,i), bbox_inches=\"tight\")\n",
    "        if show:\n",
    "            plt.show()\n",
    "        else:\n",
    "            plt.clf()"
   ]
  },
  {
   "cell_type": "code",
   "execution_count": 36,
   "metadata": {
    "scrolled": false
   },
   "outputs": [
    {
     "data": {
      "text/plain": [
       "<Figure size 1080x1080 with 0 Axes>"
      ]
     },
     "metadata": {},
     "output_type": "display_data"
    },
    {
     "data": {
      "text/plain": [
       "<Figure size 1080x1080 with 0 Axes>"
      ]
     },
     "metadata": {},
     "output_type": "display_data"
    },
    {
     "data": {
      "text/plain": [
       "<Figure size 1080x1080 with 0 Axes>"
      ]
     },
     "metadata": {},
     "output_type": "display_data"
    },
    {
     "data": {
      "text/plain": [
       "<Figure size 1080x1080 with 0 Axes>"
      ]
     },
     "metadata": {},
     "output_type": "display_data"
    },
    {
     "data": {
      "text/plain": [
       "<Figure size 1080x1080 with 0 Axes>"
      ]
     },
     "metadata": {},
     "output_type": "display_data"
    },
    {
     "data": {
      "text/plain": [
       "<Figure size 1080x1080 with 0 Axes>"
      ]
     },
     "metadata": {},
     "output_type": "display_data"
    },
    {
     "data": {
      "text/plain": [
       "<Figure size 1080x1080 with 0 Axes>"
      ]
     },
     "metadata": {},
     "output_type": "display_data"
    },
    {
     "data": {
      "text/plain": [
       "<Figure size 1080x1080 with 0 Axes>"
      ]
     },
     "metadata": {},
     "output_type": "display_data"
    },
    {
     "data": {
      "text/plain": [
       "<Figure size 1080x1080 with 0 Axes>"
      ]
     },
     "metadata": {},
     "output_type": "display_data"
    },
    {
     "data": {
      "text/plain": [
       "<Figure size 1080x1080 with 0 Axes>"
      ]
     },
     "metadata": {},
     "output_type": "display_data"
    }
   ],
   "source": [
    "%matplotlib inline\n",
    "\n",
    "grids = getgrids(\"hero_problems_3_by_3.txt\")\n",
    "plotgrids(grids, 3, 3, save=True, show=False)"
   ]
  },
  {
   "cell_type": "code",
   "execution_count": 37,
   "metadata": {
    "scrolled": false
   },
   "outputs": [
    {
     "data": {
      "text/plain": [
       "<Figure size 1800x1800 with 0 Axes>"
      ]
     },
     "metadata": {},
     "output_type": "display_data"
    },
    {
     "data": {
      "text/plain": [
       "<Figure size 1800x1800 with 0 Axes>"
      ]
     },
     "metadata": {},
     "output_type": "display_data"
    },
    {
     "data": {
      "text/plain": [
       "<Figure size 1800x1800 with 0 Axes>"
      ]
     },
     "metadata": {},
     "output_type": "display_data"
    },
    {
     "data": {
      "text/plain": [
       "<Figure size 1800x1800 with 0 Axes>"
      ]
     },
     "metadata": {},
     "output_type": "display_data"
    },
    {
     "data": {
      "text/plain": [
       "<Figure size 1800x1800 with 0 Axes>"
      ]
     },
     "metadata": {},
     "output_type": "display_data"
    },
    {
     "data": {
      "text/plain": [
       "<Figure size 1800x1800 with 0 Axes>"
      ]
     },
     "metadata": {},
     "output_type": "display_data"
    },
    {
     "data": {
      "text/plain": [
       "<Figure size 1800x1800 with 0 Axes>"
      ]
     },
     "metadata": {},
     "output_type": "display_data"
    },
    {
     "data": {
      "text/plain": [
       "<Figure size 1800x1800 with 0 Axes>"
      ]
     },
     "metadata": {},
     "output_type": "display_data"
    },
    {
     "data": {
      "text/plain": [
       "<Figure size 1800x1800 with 0 Axes>"
      ]
     },
     "metadata": {},
     "output_type": "display_data"
    },
    {
     "data": {
      "text/plain": [
       "<Figure size 1800x1800 with 0 Axes>"
      ]
     },
     "metadata": {},
     "output_type": "display_data"
    }
   ],
   "source": [
    "%matplotlib inline\n",
    "\n",
    "grids = getgrids(\"hero_problems_5_by_5.txt\")\n",
    "plotgrids(grids, 5, 5, save=True, show=False)"
   ]
  },
  {
   "cell_type": "code",
   "execution_count": 38,
   "metadata": {
    "scrolled": false
   },
   "outputs": [
    {
     "data": {
      "text/plain": [
       "<Figure size 2520x2520 with 0 Axes>"
      ]
     },
     "metadata": {},
     "output_type": "display_data"
    },
    {
     "data": {
      "text/plain": [
       "<Figure size 2520x2520 with 0 Axes>"
      ]
     },
     "metadata": {},
     "output_type": "display_data"
    },
    {
     "data": {
      "text/plain": [
       "<Figure size 2520x2520 with 0 Axes>"
      ]
     },
     "metadata": {},
     "output_type": "display_data"
    },
    {
     "data": {
      "text/plain": [
       "<Figure size 2520x2520 with 0 Axes>"
      ]
     },
     "metadata": {},
     "output_type": "display_data"
    },
    {
     "data": {
      "text/plain": [
       "<Figure size 2520x2520 with 0 Axes>"
      ]
     },
     "metadata": {},
     "output_type": "display_data"
    }
   ],
   "source": [
    "%matplotlib inline\n",
    "\n",
    "grids = getgrids(\"hero_problems_7_by_7.txt\")\n",
    "plotgrids(grids, 7, 7, save=True, show=False)"
   ]
  },
  {
   "cell_type": "code",
   "execution_count": 39,
   "metadata": {
    "scrolled": false
   },
   "outputs": [
    {
     "data": {
      "text/plain": [
       "<Figure size 3240x3240 with 0 Axes>"
      ]
     },
     "metadata": {},
     "output_type": "display_data"
    },
    {
     "data": {
      "text/plain": [
       "<Figure size 3240x3240 with 0 Axes>"
      ]
     },
     "metadata": {},
     "output_type": "display_data"
    },
    {
     "data": {
      "text/plain": [
       "<Figure size 3240x3240 with 0 Axes>"
      ]
     },
     "metadata": {},
     "output_type": "display_data"
    },
    {
     "data": {
      "text/plain": [
       "<Figure size 3240x3240 with 0 Axes>"
      ]
     },
     "metadata": {},
     "output_type": "display_data"
    },
    {
     "data": {
      "text/plain": [
       "<Figure size 3240x3240 with 0 Axes>"
      ]
     },
     "metadata": {},
     "output_type": "display_data"
    }
   ],
   "source": [
    "%matplotlib inline\n",
    "\n",
    "grids = getgrids(\"hero_problems_9_by_9.txt\")\n",
    "plotgrids(grids, 9, 9, save=True, show=False)"
   ]
  },
  {
   "cell_type": "code",
   "execution_count": null,
   "metadata": {},
   "outputs": [],
   "source": []
  }
 ],
 "metadata": {
  "kernelspec": {
   "display_name": "Python 3",
   "language": "python",
   "name": "python3"
  },
  "language_info": {
   "codemirror_mode": {
    "name": "ipython",
    "version": 3
   },
   "file_extension": ".py",
   "mimetype": "text/x-python",
   "name": "python",
   "nbconvert_exporter": "python",
   "pygments_lexer": "ipython3",
   "version": "3.6.4"
  }
 },
 "nbformat": 4,
 "nbformat_minor": 2
}
